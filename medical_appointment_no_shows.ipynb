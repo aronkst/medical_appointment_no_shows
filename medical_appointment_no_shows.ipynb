{
 "cells": [
  {
   "cell_type": "code",
   "execution_count": 1,
   "metadata": {},
   "outputs": [],
   "source": [
    "import datetime\n",
    "import calendar\n",
    "import numpy as np\n",
    "import pandas as pd\n",
    "import matplotlib as mpl\n",
    "import matplotlib.pyplot as plt\n",
    "import graphviz\n",
    "\n",
    "from pathlib import Path\n",
    "from sklearn.model_selection import train_test_split, GridSearchCV\n",
    "from sklearn.metrics import accuracy_score, fbeta_score, roc_auc_score\n",
    "from sklearn.naive_bayes import GaussianNB\n",
    "from sklearn import tree\n",
    "from sklearn.tree import DecisionTreeClassifier\n",
    "from sklearn.ensemble import RandomForestClassifier, AdaBoostClassifier, GradientBoostingClassifier\n",
    "from sklearn.svm import SVC\n",
    "from sklearn.linear_model import LogisticRegression, SGDClassifier\n",
    "from sklearn.externals import joblib\n",
    "\n",
    "%matplotlib inline\n",
    "mpl.style.use('tableau-colorblind10')"
   ]
  },
  {
   "cell_type": "markdown",
   "metadata": {},
   "source": [
    "# Analytics"
   ]
  },
  {
   "cell_type": "code",
   "execution_count": 2,
   "metadata": {},
   "outputs": [],
   "source": [
    "data = pd.read_csv('KaggleV2-May-2016.csv')"
   ]
  },
  {
   "cell_type": "code",
   "execution_count": 3,
   "metadata": {},
   "outputs": [],
   "source": [
    "data['ScheduledDay'] = data['ScheduledDay'].astype('datetime64[ns]')\n",
    "data['AppointmentDay'] = data['AppointmentDay'].astype('datetime64[ns]')"
   ]
  },
  {
   "cell_type": "code",
   "execution_count": 4,
   "metadata": {},
   "outputs": [
    {
     "data": {
      "text/html": [
       "<div>\n",
       "<style scoped>\n",
       "    .dataframe tbody tr th:only-of-type {\n",
       "        vertical-align: middle;\n",
       "    }\n",
       "\n",
       "    .dataframe tbody tr th {\n",
       "        vertical-align: top;\n",
       "    }\n",
       "\n",
       "    .dataframe thead th {\n",
       "        text-align: right;\n",
       "    }\n",
       "</style>\n",
       "<table border=\"1\" class=\"dataframe\">\n",
       "  <thead>\n",
       "    <tr style=\"text-align: right;\">\n",
       "      <th></th>\n",
       "      <th>PatientId</th>\n",
       "      <th>AppointmentID</th>\n",
       "      <th>Gender</th>\n",
       "      <th>ScheduledDay</th>\n",
       "      <th>AppointmentDay</th>\n",
       "      <th>Age</th>\n",
       "      <th>Neighbourhood</th>\n",
       "      <th>Scholarship</th>\n",
       "      <th>Hipertension</th>\n",
       "      <th>Diabetes</th>\n",
       "      <th>Alcoholism</th>\n",
       "      <th>Handcap</th>\n",
       "      <th>SMS_received</th>\n",
       "      <th>No-show</th>\n",
       "    </tr>\n",
       "  </thead>\n",
       "  <tbody>\n",
       "    <tr>\n",
       "      <th>0</th>\n",
       "      <td>2.987250e+13</td>\n",
       "      <td>5642903</td>\n",
       "      <td>F</td>\n",
       "      <td>2016-04-29 18:38:08</td>\n",
       "      <td>2016-04-29</td>\n",
       "      <td>62</td>\n",
       "      <td>JARDIM DA PENHA</td>\n",
       "      <td>0</td>\n",
       "      <td>1</td>\n",
       "      <td>0</td>\n",
       "      <td>0</td>\n",
       "      <td>0</td>\n",
       "      <td>0</td>\n",
       "      <td>No</td>\n",
       "    </tr>\n",
       "    <tr>\n",
       "      <th>1</th>\n",
       "      <td>5.589978e+14</td>\n",
       "      <td>5642503</td>\n",
       "      <td>M</td>\n",
       "      <td>2016-04-29 16:08:27</td>\n",
       "      <td>2016-04-29</td>\n",
       "      <td>56</td>\n",
       "      <td>JARDIM DA PENHA</td>\n",
       "      <td>0</td>\n",
       "      <td>0</td>\n",
       "      <td>0</td>\n",
       "      <td>0</td>\n",
       "      <td>0</td>\n",
       "      <td>0</td>\n",
       "      <td>No</td>\n",
       "    </tr>\n",
       "    <tr>\n",
       "      <th>2</th>\n",
       "      <td>4.262962e+12</td>\n",
       "      <td>5642549</td>\n",
       "      <td>F</td>\n",
       "      <td>2016-04-29 16:19:04</td>\n",
       "      <td>2016-04-29</td>\n",
       "      <td>62</td>\n",
       "      <td>MATA DA PRAIA</td>\n",
       "      <td>0</td>\n",
       "      <td>0</td>\n",
       "      <td>0</td>\n",
       "      <td>0</td>\n",
       "      <td>0</td>\n",
       "      <td>0</td>\n",
       "      <td>No</td>\n",
       "    </tr>\n",
       "    <tr>\n",
       "      <th>3</th>\n",
       "      <td>8.679512e+11</td>\n",
       "      <td>5642828</td>\n",
       "      <td>F</td>\n",
       "      <td>2016-04-29 17:29:31</td>\n",
       "      <td>2016-04-29</td>\n",
       "      <td>8</td>\n",
       "      <td>PONTAL DE CAMBURI</td>\n",
       "      <td>0</td>\n",
       "      <td>0</td>\n",
       "      <td>0</td>\n",
       "      <td>0</td>\n",
       "      <td>0</td>\n",
       "      <td>0</td>\n",
       "      <td>No</td>\n",
       "    </tr>\n",
       "    <tr>\n",
       "      <th>4</th>\n",
       "      <td>8.841186e+12</td>\n",
       "      <td>5642494</td>\n",
       "      <td>F</td>\n",
       "      <td>2016-04-29 16:07:23</td>\n",
       "      <td>2016-04-29</td>\n",
       "      <td>56</td>\n",
       "      <td>JARDIM DA PENHA</td>\n",
       "      <td>0</td>\n",
       "      <td>1</td>\n",
       "      <td>1</td>\n",
       "      <td>0</td>\n",
       "      <td>0</td>\n",
       "      <td>0</td>\n",
       "      <td>No</td>\n",
       "    </tr>\n",
       "  </tbody>\n",
       "</table>\n",
       "</div>"
      ],
      "text/plain": [
       "      PatientId  AppointmentID Gender        ScheduledDay AppointmentDay  Age  \\\n",
       "0  2.987250e+13        5642903      F 2016-04-29 18:38:08     2016-04-29   62   \n",
       "1  5.589978e+14        5642503      M 2016-04-29 16:08:27     2016-04-29   56   \n",
       "2  4.262962e+12        5642549      F 2016-04-29 16:19:04     2016-04-29   62   \n",
       "3  8.679512e+11        5642828      F 2016-04-29 17:29:31     2016-04-29    8   \n",
       "4  8.841186e+12        5642494      F 2016-04-29 16:07:23     2016-04-29   56   \n",
       "\n",
       "       Neighbourhood  Scholarship  Hipertension  Diabetes  Alcoholism  \\\n",
       "0    JARDIM DA PENHA            0             1         0           0   \n",
       "1    JARDIM DA PENHA            0             0         0           0   \n",
       "2      MATA DA PRAIA            0             0         0           0   \n",
       "3  PONTAL DE CAMBURI            0             0         0           0   \n",
       "4    JARDIM DA PENHA            0             1         1           0   \n",
       "\n",
       "   Handcap  SMS_received No-show  \n",
       "0        0             0      No  \n",
       "1        0             0      No  \n",
       "2        0             0      No  \n",
       "3        0             0      No  \n",
       "4        0             0      No  "
      ]
     },
     "execution_count": 4,
     "metadata": {},
     "output_type": "execute_result"
    }
   ],
   "source": [
    "data.head()"
   ]
  },
  {
   "cell_type": "code",
   "execution_count": 5,
   "metadata": {},
   "outputs": [
    {
     "data": {
      "text/html": [
       "<div>\n",
       "<style scoped>\n",
       "    .dataframe tbody tr th:only-of-type {\n",
       "        vertical-align: middle;\n",
       "    }\n",
       "\n",
       "    .dataframe tbody tr th {\n",
       "        vertical-align: top;\n",
       "    }\n",
       "\n",
       "    .dataframe thead th {\n",
       "        text-align: right;\n",
       "    }\n",
       "</style>\n",
       "<table border=\"1\" class=\"dataframe\">\n",
       "  <thead>\n",
       "    <tr style=\"text-align: right;\">\n",
       "      <th></th>\n",
       "      <th>PatientId</th>\n",
       "      <th>AppointmentID</th>\n",
       "      <th>Age</th>\n",
       "      <th>Scholarship</th>\n",
       "      <th>Hipertension</th>\n",
       "      <th>Diabetes</th>\n",
       "      <th>Alcoholism</th>\n",
       "      <th>Handcap</th>\n",
       "      <th>SMS_received</th>\n",
       "    </tr>\n",
       "  </thead>\n",
       "  <tbody>\n",
       "    <tr>\n",
       "      <th>count</th>\n",
       "      <td>1.105270e+05</td>\n",
       "      <td>1.105270e+05</td>\n",
       "      <td>110527.000000</td>\n",
       "      <td>110527.000000</td>\n",
       "      <td>110527.000000</td>\n",
       "      <td>110527.000000</td>\n",
       "      <td>110527.000000</td>\n",
       "      <td>110527.000000</td>\n",
       "      <td>110527.000000</td>\n",
       "    </tr>\n",
       "    <tr>\n",
       "      <th>mean</th>\n",
       "      <td>1.474963e+14</td>\n",
       "      <td>5.675305e+06</td>\n",
       "      <td>37.088874</td>\n",
       "      <td>0.098266</td>\n",
       "      <td>0.197246</td>\n",
       "      <td>0.071865</td>\n",
       "      <td>0.030400</td>\n",
       "      <td>0.022248</td>\n",
       "      <td>0.321026</td>\n",
       "    </tr>\n",
       "    <tr>\n",
       "      <th>std</th>\n",
       "      <td>2.560949e+14</td>\n",
       "      <td>7.129575e+04</td>\n",
       "      <td>23.110205</td>\n",
       "      <td>0.297675</td>\n",
       "      <td>0.397921</td>\n",
       "      <td>0.258265</td>\n",
       "      <td>0.171686</td>\n",
       "      <td>0.161543</td>\n",
       "      <td>0.466873</td>\n",
       "    </tr>\n",
       "    <tr>\n",
       "      <th>min</th>\n",
       "      <td>3.921784e+04</td>\n",
       "      <td>5.030230e+06</td>\n",
       "      <td>-1.000000</td>\n",
       "      <td>0.000000</td>\n",
       "      <td>0.000000</td>\n",
       "      <td>0.000000</td>\n",
       "      <td>0.000000</td>\n",
       "      <td>0.000000</td>\n",
       "      <td>0.000000</td>\n",
       "    </tr>\n",
       "    <tr>\n",
       "      <th>25%</th>\n",
       "      <td>4.172614e+12</td>\n",
       "      <td>5.640286e+06</td>\n",
       "      <td>18.000000</td>\n",
       "      <td>0.000000</td>\n",
       "      <td>0.000000</td>\n",
       "      <td>0.000000</td>\n",
       "      <td>0.000000</td>\n",
       "      <td>0.000000</td>\n",
       "      <td>0.000000</td>\n",
       "    </tr>\n",
       "    <tr>\n",
       "      <th>50%</th>\n",
       "      <td>3.173184e+13</td>\n",
       "      <td>5.680573e+06</td>\n",
       "      <td>37.000000</td>\n",
       "      <td>0.000000</td>\n",
       "      <td>0.000000</td>\n",
       "      <td>0.000000</td>\n",
       "      <td>0.000000</td>\n",
       "      <td>0.000000</td>\n",
       "      <td>0.000000</td>\n",
       "    </tr>\n",
       "    <tr>\n",
       "      <th>75%</th>\n",
       "      <td>9.439172e+13</td>\n",
       "      <td>5.725524e+06</td>\n",
       "      <td>55.000000</td>\n",
       "      <td>0.000000</td>\n",
       "      <td>0.000000</td>\n",
       "      <td>0.000000</td>\n",
       "      <td>0.000000</td>\n",
       "      <td>0.000000</td>\n",
       "      <td>1.000000</td>\n",
       "    </tr>\n",
       "    <tr>\n",
       "      <th>max</th>\n",
       "      <td>9.999816e+14</td>\n",
       "      <td>5.790484e+06</td>\n",
       "      <td>115.000000</td>\n",
       "      <td>1.000000</td>\n",
       "      <td>1.000000</td>\n",
       "      <td>1.000000</td>\n",
       "      <td>1.000000</td>\n",
       "      <td>4.000000</td>\n",
       "      <td>1.000000</td>\n",
       "    </tr>\n",
       "  </tbody>\n",
       "</table>\n",
       "</div>"
      ],
      "text/plain": [
       "          PatientId  AppointmentID            Age    Scholarship  \\\n",
       "count  1.105270e+05   1.105270e+05  110527.000000  110527.000000   \n",
       "mean   1.474963e+14   5.675305e+06      37.088874       0.098266   \n",
       "std    2.560949e+14   7.129575e+04      23.110205       0.297675   \n",
       "min    3.921784e+04   5.030230e+06      -1.000000       0.000000   \n",
       "25%    4.172614e+12   5.640286e+06      18.000000       0.000000   \n",
       "50%    3.173184e+13   5.680573e+06      37.000000       0.000000   \n",
       "75%    9.439172e+13   5.725524e+06      55.000000       0.000000   \n",
       "max    9.999816e+14   5.790484e+06     115.000000       1.000000   \n",
       "\n",
       "        Hipertension       Diabetes     Alcoholism        Handcap  \\\n",
       "count  110527.000000  110527.000000  110527.000000  110527.000000   \n",
       "mean        0.197246       0.071865       0.030400       0.022248   \n",
       "std         0.397921       0.258265       0.171686       0.161543   \n",
       "min         0.000000       0.000000       0.000000       0.000000   \n",
       "25%         0.000000       0.000000       0.000000       0.000000   \n",
       "50%         0.000000       0.000000       0.000000       0.000000   \n",
       "75%         0.000000       0.000000       0.000000       0.000000   \n",
       "max         1.000000       1.000000       1.000000       4.000000   \n",
       "\n",
       "        SMS_received  \n",
       "count  110527.000000  \n",
       "mean        0.321026  \n",
       "std         0.466873  \n",
       "min         0.000000  \n",
       "25%         0.000000  \n",
       "50%         0.000000  \n",
       "75%         1.000000  \n",
       "max         1.000000  "
      ]
     },
     "execution_count": 5,
     "metadata": {},
     "output_type": "execute_result"
    }
   ],
   "source": [
    "data.describe()"
   ]
  },
  {
   "cell_type": "code",
   "execution_count": 6,
   "metadata": {},
   "outputs": [
    {
     "data": {
      "text/plain": [
       "110527"
      ]
     },
     "execution_count": 6,
     "metadata": {},
     "output_type": "execute_result"
    }
   ],
   "source": [
    "len(data)"
   ]
  },
  {
   "cell_type": "code",
   "execution_count": 7,
   "metadata": {},
   "outputs": [
    {
     "data": {
      "text/plain": [
       "88208"
      ]
     },
     "execution_count": 7,
     "metadata": {},
     "output_type": "execute_result"
    }
   ],
   "source": [
    "show = data[data['No-show'] == 'No']\n",
    "len(show)"
   ]
  },
  {
   "cell_type": "code",
   "execution_count": 8,
   "metadata": {},
   "outputs": [
    {
     "data": {
      "text/plain": [
       "22319"
      ]
     },
     "execution_count": 8,
     "metadata": {},
     "output_type": "execute_result"
    }
   ],
   "source": [
    "no_show = data[data['No-show'] == 'Yes']\n",
    "len(no_show)"
   ]
  },
  {
   "cell_type": "code",
   "execution_count": 9,
   "metadata": {},
   "outputs": [
    {
     "data": {
      "text/plain": [
       "PatientId                float64\n",
       "AppointmentID              int64\n",
       "Gender                    object\n",
       "ScheduledDay      datetime64[ns]\n",
       "AppointmentDay    datetime64[ns]\n",
       "Age                        int64\n",
       "Neighbourhood             object\n",
       "Scholarship                int64\n",
       "Hipertension               int64\n",
       "Diabetes                   int64\n",
       "Alcoholism                 int64\n",
       "Handcap                    int64\n",
       "SMS_received               int64\n",
       "No-show                   object\n",
       "dtype: object"
      ]
     },
     "execution_count": 9,
     "metadata": {},
     "output_type": "execute_result"
    }
   ],
   "source": [
    "data.dtypes"
   ]
  },
  {
   "cell_type": "code",
   "execution_count": 10,
   "metadata": {},
   "outputs": [
    {
     "data": {
      "image/png": "[encoded data removed]",
      "text/plain": [
       "<Figure size 432x288 with 1 Axes>"
      ]
     },
     "metadata": {},
     "output_type": "display_data"
    }
   ],
   "source": [
    "labels = 'Sim', 'Não'\n",
    "sizes = [len(data[data['No-show'] == 'No']), len(data[data['No-show'] == 'Yes'])]\n",
    "\n",
    "plt.pie(sizes, labels=labels, autopct='%1.1f%%')\n",
    "plt.axis('equal')\n",
    "plt.title('Compareceu a consulta médica')\n",
    "\n",
    "plt.show()"
   ]
  },
  {
   "cell_type": "code",
   "execution_count": 11,
   "metadata": {},
   "outputs": [
    {
     "data": {
      "image/png": "[encoded data removed]",
      "text/plain": [
       "<Figure size 432x288 with 1 Axes>"
      ]
     },
     "metadata": {},
     "output_type": "display_data"
    }
   ],
   "source": [
    "labels = 'Sim', 'Não'\n",
    "size_1 = len(data[(data['No-show'] == 'No') & (data['SMS_received'] == 1)])\n",
    "size_2 = len(data[(data['No-show'] == 'No') & (data['SMS_received'] == 0)])\n",
    "sizes = [size_1, size_2]\n",
    "\n",
    "plt.pie(sizes, labels=labels, autopct='%1.1f%%')\n",
    "plt.axis('equal')\n",
    "plt.title('Recebeu SMS de aviso antes de comparecer a consulta médica')\n",
    "\n",
    "plt.show()"
   ]
  },
  {
   "cell_type": "code",
   "execution_count": 12,
   "metadata": {},
   "outputs": [
    {
     "data": {
      "image/png": "[encoded data removed]",
      "text/plain": [
       "<Figure size 432x288 with 1 Axes>"
      ]
     },
     "metadata": {},
     "output_type": "display_data"
    }
   ],
   "source": [
    "labels = 'Masculino', 'Feminino'\n",
    "sizes = [len(data[data['Gender'] == 'M']), len(data[data['Gender'] == 'F'])]\n",
    "\n",
    "plt.pie(sizes, labels=labels, autopct='%1.1f%%')\n",
    "plt.axis('equal')\n",
    "plt.title('Consultas médicas marcadas entre masculino e feminino')\n",
    "\n",
    "plt.show()"
   ]
  },
  {
   "cell_type": "code",
   "execution_count": 13,
   "metadata": {},
   "outputs": [
    {
     "data": {
      "image/png": "[encoded data removed]",
      "text/plain": [
       "<Figure size 432x288 with 1 Axes>"
      ]
     },
     "metadata": {},
     "output_type": "display_data"
    }
   ],
   "source": [
    "m1 = len(data[(data['No-show'] == 'No') & (data['Gender'] == 'M')])\n",
    "m2 = len(data[(data['No-show'] == 'Yes') & (data['Gender'] == 'M')])\n",
    "f1 = len(data[(data['No-show'] == 'No') & (data['Gender'] == 'F')])\n",
    "f2 = len(data[(data['No-show'] == 'Yes') & (data['Gender'] == 'F')])\n",
    "\n",
    "sizes = [[m1, m2], [f1, f2]]\n",
    "\n",
    "X = np.arange(2)\n",
    "plt.bar(X + 0.00, sizes[0], width = 0.25, label='Masculino')\n",
    "plt.bar(X + 0.25, sizes[1], width = 0.25, label='Feminino')\n",
    "plt.title('Consultas médicas marcadas entre masculino/feminino e compareceram ou não')\n",
    "plt.legend()\n",
    "plt.xticks(0.119 + np.arange(2), ('Sim', 'Não'))\n",
    "\n",
    "plt.xlabel('Compareceu')\n",
    "plt.ylabel('Consultas')\n",
    "\n",
    "plt.show()"
   ]
  },
  {
   "cell_type": "markdown",
   "metadata": {},
   "source": [
    "# Machine Learning"
   ]
  },
  {
   "cell_type": "code",
   "execution_count": 14,
   "metadata": {},
   "outputs": [],
   "source": [
    "data = data.rename(columns={'PatientId': 'Patient_ID', 'AppointmentID': 'Appointment_ID',\n",
    "                            'ScheduledDay': 'Scheduled_Day', 'AppointmentDay': 'Appointment_Day',\n",
    "                            'SMS_received': 'SMS_Received', 'No-show': 'Show'})"
   ]
  },
  {
   "cell_type": "code",
   "execution_count": 15,
   "metadata": {},
   "outputs": [],
   "source": [
    "data['Difference_Date_Medical_Consultation'] = data.apply(lambda d: str(abs((d['Scheduled_Day'] - d['Appointment_Day']).days) // 5), axis=1)"
   ]
  },
  {
   "cell_type": "code",
   "execution_count": 16,
   "metadata": {},
   "outputs": [],
   "source": [
    "data['Scheduled_Day'] = data['Scheduled_Day'].apply(lambda d: list(calendar.day_name)[d.weekday()])"
   ]
  },
  {
   "cell_type": "code",
   "execution_count": 17,
   "metadata": {},
   "outputs": [],
   "source": [
    "data['Appointment_Day'] = data['Appointment_Day'].apply(lambda d: list(calendar.day_name)[d.weekday()])"
   ]
  },
  {
   "cell_type": "code",
   "execution_count": 18,
   "metadata": {},
   "outputs": [],
   "source": [
    "data['Gender'] = data['Gender'].apply(lambda d: 1 if d == 'M' else 0)"
   ]
  },
  {
   "cell_type": "code",
   "execution_count": 19,
   "metadata": {},
   "outputs": [],
   "source": [
    "data['Age'] = data['Age'].apply(lambda d: str(d // 5))"
   ]
  },
  {
   "cell_type": "code",
   "execution_count": 20,
   "metadata": {},
   "outputs": [],
   "source": [
    "data['Show'] = data['Show'].apply(lambda d: True if d == 'No' else False)"
   ]
  },
  {
   "cell_type": "code",
   "execution_count": 21,
   "metadata": {},
   "outputs": [],
   "source": [
    "data = data.drop('Patient_ID', axis=1)\n",
    "data = data.drop('Appointment_ID', axis=1)"
   ]
  },
  {
   "cell_type": "code",
   "execution_count": 22,
   "metadata": {},
   "outputs": [
    {
     "data": {
      "text/plain": [
       "Gender                                   int64\n",
       "Scheduled_Day                           object\n",
       "Appointment_Day                         object\n",
       "Age                                     object\n",
       "Neighbourhood                           object\n",
       "Scholarship                              int64\n",
       "Hipertension                             int64\n",
       "Diabetes                                 int64\n",
       "Alcoholism                               int64\n",
       "Handcap                                  int64\n",
       "SMS_Received                             int64\n",
       "Show                                      bool\n",
       "Difference_Date_Medical_Consultation    object\n",
       "dtype: object"
      ]
     },
     "execution_count": 22,
     "metadata": {},
     "output_type": "execute_result"
    }
   ],
   "source": [
    "data.dtypes"
   ]
  },
  {
   "cell_type": "code",
   "execution_count": 23,
   "metadata": {},
   "outputs": [
    {
     "data": {
      "text/html": [
       "<div>\n",
       "<style scoped>\n",
       "    .dataframe tbody tr th:only-of-type {\n",
       "        vertical-align: middle;\n",
       "    }\n",
       "\n",
       "    .dataframe tbody tr th {\n",
       "        vertical-align: top;\n",
       "    }\n",
       "\n",
       "    .dataframe thead th {\n",
       "        text-align: right;\n",
       "    }\n",
       "</style>\n",
       "<table border=\"1\" class=\"dataframe\">\n",
       "  <thead>\n",
       "    <tr style=\"text-align: right;\">\n",
       "      <th></th>\n",
       "      <th>Gender</th>\n",
       "      <th>Scheduled_Day</th>\n",
       "      <th>Appointment_Day</th>\n",
       "      <th>Age</th>\n",
       "      <th>Neighbourhood</th>\n",
       "      <th>Scholarship</th>\n",
       "      <th>Hipertension</th>\n",
       "      <th>Diabetes</th>\n",
       "      <th>Alcoholism</th>\n",
       "      <th>Handcap</th>\n",
       "      <th>SMS_Received</th>\n",
       "      <th>Show</th>\n",
       "      <th>Difference_Date_Medical_Consultation</th>\n",
       "    </tr>\n",
       "  </thead>\n",
       "  <tbody>\n",
       "    <tr>\n",
       "      <th>0</th>\n",
       "      <td>0</td>\n",
       "      <td>Friday</td>\n",
       "      <td>Friday</td>\n",
       "      <td>12</td>\n",
       "      <td>JARDIM DA PENHA</td>\n",
       "      <td>0</td>\n",
       "      <td>1</td>\n",
       "      <td>0</td>\n",
       "      <td>0</td>\n",
       "      <td>0</td>\n",
       "      <td>0</td>\n",
       "      <td>True</td>\n",
       "      <td>0</td>\n",
       "    </tr>\n",
       "    <tr>\n",
       "      <th>1</th>\n",
       "      <td>1</td>\n",
       "      <td>Friday</td>\n",
       "      <td>Friday</td>\n",
       "      <td>11</td>\n",
       "      <td>JARDIM DA PENHA</td>\n",
       "      <td>0</td>\n",
       "      <td>0</td>\n",
       "      <td>0</td>\n",
       "      <td>0</td>\n",
       "      <td>0</td>\n",
       "      <td>0</td>\n",
       "      <td>True</td>\n",
       "      <td>0</td>\n",
       "    </tr>\n",
       "    <tr>\n",
       "      <th>2</th>\n",
       "      <td>0</td>\n",
       "      <td>Friday</td>\n",
       "      <td>Friday</td>\n",
       "      <td>12</td>\n",
       "      <td>MATA DA PRAIA</td>\n",
       "      <td>0</td>\n",
       "      <td>0</td>\n",
       "      <td>0</td>\n",
       "      <td>0</td>\n",
       "      <td>0</td>\n",
       "      <td>0</td>\n",
       "      <td>True</td>\n",
       "      <td>0</td>\n",
       "    </tr>\n",
       "    <tr>\n",
       "      <th>3</th>\n",
       "      <td>0</td>\n",
       "      <td>Friday</td>\n",
       "      <td>Friday</td>\n",
       "      <td>1</td>\n",
       "      <td>PONTAL DE CAMBURI</td>\n",
       "      <td>0</td>\n",
       "      <td>0</td>\n",
       "      <td>0</td>\n",
       "      <td>0</td>\n",
       "      <td>0</td>\n",
       "      <td>0</td>\n",
       "      <td>True</td>\n",
       "      <td>0</td>\n",
       "    </tr>\n",
       "    <tr>\n",
       "      <th>4</th>\n",
       "      <td>0</td>\n",
       "      <td>Friday</td>\n",
       "      <td>Friday</td>\n",
       "      <td>11</td>\n",
       "      <td>JARDIM DA PENHA</td>\n",
       "      <td>0</td>\n",
       "      <td>1</td>\n",
       "      <td>1</td>\n",
       "      <td>0</td>\n",
       "      <td>0</td>\n",
       "      <td>0</td>\n",
       "      <td>True</td>\n",
       "      <td>0</td>\n",
       "    </tr>\n",
       "  </tbody>\n",
       "</table>\n",
       "</div>"
      ],
      "text/plain": [
       "   Gender Scheduled_Day Appointment_Day Age      Neighbourhood  Scholarship  \\\n",
       "0       0        Friday          Friday  12    JARDIM DA PENHA            0   \n",
       "1       1        Friday          Friday  11    JARDIM DA PENHA            0   \n",
       "2       0        Friday          Friday  12      MATA DA PRAIA            0   \n",
       "3       0        Friday          Friday   1  PONTAL DE CAMBURI            0   \n",
       "4       0        Friday          Friday  11    JARDIM DA PENHA            0   \n",
       "\n",
       "   Hipertension  Diabetes  Alcoholism  Handcap  SMS_Received  Show  \\\n",
       "0             1         0           0        0             0  True   \n",
       "1             0         0           0        0             0  True   \n",
       "2             0         0           0        0             0  True   \n",
       "3             0         0           0        0             0  True   \n",
       "4             1         1           0        0             0  True   \n",
       "\n",
       "  Difference_Date_Medical_Consultation  \n",
       "0                                    0  \n",
       "1                                    0  \n",
       "2                                    0  \n",
       "3                                    0  \n",
       "4                                    0  "
      ]
     },
     "execution_count": 23,
     "metadata": {},
     "output_type": "execute_result"
    }
   ],
   "source": [
    "data.head()"
   ]
  },
  {
   "cell_type": "code",
   "execution_count": 24,
   "metadata": {},
   "outputs": [],
   "source": [
    "data = pd.get_dummies(data)"
   ]
  },
  {
   "cell_type": "code",
   "execution_count": 25,
   "metadata": {},
   "outputs": [
    {
     "data": {
      "text/html": [
       "<div>\n",
       "<style scoped>\n",
       "    .dataframe tbody tr th:only-of-type {\n",
       "        vertical-align: middle;\n",
       "    }\n",
       "\n",
       "    .dataframe tbody tr th {\n",
       "        vertical-align: top;\n",
       "    }\n",
       "\n",
       "    .dataframe thead th {\n",
       "        text-align: right;\n",
       "    }\n",
       "</style>\n",
       "<table border=\"1\" class=\"dataframe\">\n",
       "  <thead>\n",
       "    <tr style=\"text-align: right;\">\n",
       "      <th></th>\n",
       "      <th>Gender</th>\n",
       "      <th>Scholarship</th>\n",
       "      <th>Hipertension</th>\n",
       "      <th>Diabetes</th>\n",
       "      <th>Alcoholism</th>\n",
       "      <th>Handcap</th>\n",
       "      <th>SMS_Received</th>\n",
       "      <th>Scheduled_Day_Friday</th>\n",
       "      <th>Scheduled_Day_Monday</th>\n",
       "      <th>Scheduled_Day_Saturday</th>\n",
       "      <th>...</th>\n",
       "      <th>Difference_Date_Medical_Consultation_31</th>\n",
       "      <th>Difference_Date_Medical_Consultation_32</th>\n",
       "      <th>Difference_Date_Medical_Consultation_33</th>\n",
       "      <th>Difference_Date_Medical_Consultation_35</th>\n",
       "      <th>Difference_Date_Medical_Consultation_4</th>\n",
       "      <th>Difference_Date_Medical_Consultation_5</th>\n",
       "      <th>Difference_Date_Medical_Consultation_6</th>\n",
       "      <th>Difference_Date_Medical_Consultation_7</th>\n",
       "      <th>Difference_Date_Medical_Consultation_8</th>\n",
       "      <th>Difference_Date_Medical_Consultation_9</th>\n",
       "    </tr>\n",
       "  </thead>\n",
       "  <tbody>\n",
       "    <tr>\n",
       "      <th>count</th>\n",
       "      <td>110527.000000</td>\n",
       "      <td>110527.000000</td>\n",
       "      <td>110527.000000</td>\n",
       "      <td>110527.000000</td>\n",
       "      <td>110527.000000</td>\n",
       "      <td>110527.000000</td>\n",
       "      <td>110527.000000</td>\n",
       "      <td>110527.000000</td>\n",
       "      <td>110527.000000</td>\n",
       "      <td>110527.000000</td>\n",
       "      <td>...</td>\n",
       "      <td>110527.000000</td>\n",
       "      <td>110527.000000</td>\n",
       "      <td>110527.000000</td>\n",
       "      <td>110527.000000</td>\n",
       "      <td>110527.000000</td>\n",
       "      <td>110527.000000</td>\n",
       "      <td>110527.000000</td>\n",
       "      <td>110527.000000</td>\n",
       "      <td>110527.000000</td>\n",
       "      <td>110527.000000</td>\n",
       "    </tr>\n",
       "    <tr>\n",
       "      <th>mean</th>\n",
       "      <td>0.350023</td>\n",
       "      <td>0.098266</td>\n",
       "      <td>0.197246</td>\n",
       "      <td>0.071865</td>\n",
       "      <td>0.030400</td>\n",
       "      <td>0.022248</td>\n",
       "      <td>0.321026</td>\n",
       "      <td>0.171135</td>\n",
       "      <td>0.208863</td>\n",
       "      <td>0.000217</td>\n",
       "      <td>...</td>\n",
       "      <td>0.000090</td>\n",
       "      <td>0.000100</td>\n",
       "      <td>0.000072</td>\n",
       "      <td>0.000235</td>\n",
       "      <td>0.051254</td>\n",
       "      <td>0.046830</td>\n",
       "      <td>0.031069</td>\n",
       "      <td>0.020031</td>\n",
       "      <td>0.012884</td>\n",
       "      <td>0.006333</td>\n",
       "    </tr>\n",
       "    <tr>\n",
       "      <th>std</th>\n",
       "      <td>0.476979</td>\n",
       "      <td>0.297675</td>\n",
       "      <td>0.397921</td>\n",
       "      <td>0.258265</td>\n",
       "      <td>0.171686</td>\n",
       "      <td>0.161543</td>\n",
       "      <td>0.466873</td>\n",
       "      <td>0.376628</td>\n",
       "      <td>0.406498</td>\n",
       "      <td>0.014734</td>\n",
       "      <td>...</td>\n",
       "      <td>0.009511</td>\n",
       "      <td>0.009976</td>\n",
       "      <td>0.008507</td>\n",
       "      <td>0.015336</td>\n",
       "      <td>0.220517</td>\n",
       "      <td>0.211276</td>\n",
       "      <td>0.173506</td>\n",
       "      <td>0.140108</td>\n",
       "      <td>0.112773</td>\n",
       "      <td>0.079330</td>\n",
       "    </tr>\n",
       "    <tr>\n",
       "      <th>min</th>\n",
       "      <td>0.000000</td>\n",
       "      <td>0.000000</td>\n",
       "      <td>0.000000</td>\n",
       "      <td>0.000000</td>\n",
       "      <td>0.000000</td>\n",
       "      <td>0.000000</td>\n",
       "      <td>0.000000</td>\n",
       "      <td>0.000000</td>\n",
       "      <td>0.000000</td>\n",
       "      <td>0.000000</td>\n",
       "      <td>...</td>\n",
       "      <td>0.000000</td>\n",
       "      <td>0.000000</td>\n",
       "      <td>0.000000</td>\n",
       "      <td>0.000000</td>\n",
       "      <td>0.000000</td>\n",
       "      <td>0.000000</td>\n",
       "      <td>0.000000</td>\n",
       "      <td>0.000000</td>\n",
       "      <td>0.000000</td>\n",
       "      <td>0.000000</td>\n",
       "    </tr>\n",
       "    <tr>\n",
       "      <th>25%</th>\n",
       "      <td>0.000000</td>\n",
       "      <td>0.000000</td>\n",
       "      <td>0.000000</td>\n",
       "      <td>0.000000</td>\n",
       "      <td>0.000000</td>\n",
       "      <td>0.000000</td>\n",
       "      <td>0.000000</td>\n",
       "      <td>0.000000</td>\n",
       "      <td>0.000000</td>\n",
       "      <td>0.000000</td>\n",
       "      <td>...</td>\n",
       "      <td>0.000000</td>\n",
       "      <td>0.000000</td>\n",
       "      <td>0.000000</td>\n",
       "      <td>0.000000</td>\n",
       "      <td>0.000000</td>\n",
       "      <td>0.000000</td>\n",
       "      <td>0.000000</td>\n",
       "      <td>0.000000</td>\n",
       "      <td>0.000000</td>\n",
       "      <td>0.000000</td>\n",
       "    </tr>\n",
       "    <tr>\n",
       "      <th>50%</th>\n",
       "      <td>0.000000</td>\n",
       "      <td>0.000000</td>\n",
       "      <td>0.000000</td>\n",
       "      <td>0.000000</td>\n",
       "      <td>0.000000</td>\n",
       "      <td>0.000000</td>\n",
       "      <td>0.000000</td>\n",
       "      <td>0.000000</td>\n",
       "      <td>0.000000</td>\n",
       "      <td>0.000000</td>\n",
       "      <td>...</td>\n",
       "      <td>0.000000</td>\n",
       "      <td>0.000000</td>\n",
       "      <td>0.000000</td>\n",
       "      <td>0.000000</td>\n",
       "      <td>0.000000</td>\n",
       "      <td>0.000000</td>\n",
       "      <td>0.000000</td>\n",
       "      <td>0.000000</td>\n",
       "      <td>0.000000</td>\n",
       "      <td>0.000000</td>\n",
       "    </tr>\n",
       "    <tr>\n",
       "      <th>75%</th>\n",
       "      <td>1.000000</td>\n",
       "      <td>0.000000</td>\n",
       "      <td>0.000000</td>\n",
       "      <td>0.000000</td>\n",
       "      <td>0.000000</td>\n",
       "      <td>0.000000</td>\n",
       "      <td>1.000000</td>\n",
       "      <td>0.000000</td>\n",
       "      <td>0.000000</td>\n",
       "      <td>0.000000</td>\n",
       "      <td>...</td>\n",
       "      <td>0.000000</td>\n",
       "      <td>0.000000</td>\n",
       "      <td>0.000000</td>\n",
       "      <td>0.000000</td>\n",
       "      <td>0.000000</td>\n",
       "      <td>0.000000</td>\n",
       "      <td>0.000000</td>\n",
       "      <td>0.000000</td>\n",
       "      <td>0.000000</td>\n",
       "      <td>0.000000</td>\n",
       "    </tr>\n",
       "    <tr>\n",
       "      <th>max</th>\n",
       "      <td>1.000000</td>\n",
       "      <td>1.000000</td>\n",
       "      <td>1.000000</td>\n",
       "      <td>1.000000</td>\n",
       "      <td>1.000000</td>\n",
       "      <td>4.000000</td>\n",
       "      <td>1.000000</td>\n",
       "      <td>1.000000</td>\n",
       "      <td>1.000000</td>\n",
       "      <td>1.000000</td>\n",
       "      <td>...</td>\n",
       "      <td>1.000000</td>\n",
       "      <td>1.000000</td>\n",
       "      <td>1.000000</td>\n",
       "      <td>1.000000</td>\n",
       "      <td>1.000000</td>\n",
       "      <td>1.000000</td>\n",
       "      <td>1.000000</td>\n",
       "      <td>1.000000</td>\n",
       "      <td>1.000000</td>\n",
       "      <td>1.000000</td>\n",
       "    </tr>\n",
       "  </tbody>\n",
       "</table>\n",
       "<p>8 rows × 158 columns</p>\n",
       "</div>"
      ],
      "text/plain": [
       "              Gender    Scholarship   Hipertension       Diabetes  \\\n",
       "count  110527.000000  110527.000000  110527.000000  110527.000000   \n",
       "mean        0.350023       0.098266       0.197246       0.071865   \n",
       "std         0.476979       0.297675       0.397921       0.258265   \n",
       "min         0.000000       0.000000       0.000000       0.000000   \n",
       "25%         0.000000       0.000000       0.000000       0.000000   \n",
       "50%         0.000000       0.000000       0.000000       0.000000   \n",
       "75%         1.000000       0.000000       0.000000       0.000000   \n",
       "max         1.000000       1.000000       1.000000       1.000000   \n",
       "\n",
       "          Alcoholism        Handcap   SMS_Received  Scheduled_Day_Friday  \\\n",
       "count  110527.000000  110527.000000  110527.000000         110527.000000   \n",
       "mean        0.030400       0.022248       0.321026              0.171135   \n",
       "std         0.171686       0.161543       0.466873              0.376628   \n",
       "min         0.000000       0.000000       0.000000              0.000000   \n",
       "25%         0.000000       0.000000       0.000000              0.000000   \n",
       "50%         0.000000       0.000000       0.000000              0.000000   \n",
       "75%         0.000000       0.000000       1.000000              0.000000   \n",
       "max         1.000000       4.000000       1.000000              1.000000   \n",
       "\n",
       "       Scheduled_Day_Monday  Scheduled_Day_Saturday  \\\n",
       "count         110527.000000           110527.000000   \n",
       "mean               0.208863                0.000217   \n",
       "std                0.406498                0.014734   \n",
       "min                0.000000                0.000000   \n",
       "25%                0.000000                0.000000   \n",
       "50%                0.000000                0.000000   \n",
       "75%                0.000000                0.000000   \n",
       "max                1.000000                1.000000   \n",
       "\n",
       "                        ...                    \\\n",
       "count                   ...                     \n",
       "mean                    ...                     \n",
       "std                     ...                     \n",
       "min                     ...                     \n",
       "25%                     ...                     \n",
       "50%                     ...                     \n",
       "75%                     ...                     \n",
       "max                     ...                     \n",
       "\n",
       "       Difference_Date_Medical_Consultation_31  \\\n",
       "count                            110527.000000   \n",
       "mean                                  0.000090   \n",
       "std                                   0.009511   \n",
       "min                                   0.000000   \n",
       "25%                                   0.000000   \n",
       "50%                                   0.000000   \n",
       "75%                                   0.000000   \n",
       "max                                   1.000000   \n",
       "\n",
       "       Difference_Date_Medical_Consultation_32  \\\n",
       "count                            110527.000000   \n",
       "mean                                  0.000100   \n",
       "std                                   0.009976   \n",
       "min                                   0.000000   \n",
       "25%                                   0.000000   \n",
       "50%                                   0.000000   \n",
       "75%                                   0.000000   \n",
       "max                                   1.000000   \n",
       "\n",
       "       Difference_Date_Medical_Consultation_33  \\\n",
       "count                            110527.000000   \n",
       "mean                                  0.000072   \n",
       "std                                   0.008507   \n",
       "min                                   0.000000   \n",
       "25%                                   0.000000   \n",
       "50%                                   0.000000   \n",
       "75%                                   0.000000   \n",
       "max                                   1.000000   \n",
       "\n",
       "       Difference_Date_Medical_Consultation_35  \\\n",
       "count                            110527.000000   \n",
       "mean                                  0.000235   \n",
       "std                                   0.015336   \n",
       "min                                   0.000000   \n",
       "25%                                   0.000000   \n",
       "50%                                   0.000000   \n",
       "75%                                   0.000000   \n",
       "max                                   1.000000   \n",
       "\n",
       "       Difference_Date_Medical_Consultation_4  \\\n",
       "count                           110527.000000   \n",
       "mean                                 0.051254   \n",
       "std                                  0.220517   \n",
       "min                                  0.000000   \n",
       "25%                                  0.000000   \n",
       "50%                                  0.000000   \n",
       "75%                                  0.000000   \n",
       "max                                  1.000000   \n",
       "\n",
       "       Difference_Date_Medical_Consultation_5  \\\n",
       "count                           110527.000000   \n",
       "mean                                 0.046830   \n",
       "std                                  0.211276   \n",
       "min                                  0.000000   \n",
       "25%                                  0.000000   \n",
       "50%                                  0.000000   \n",
       "75%                                  0.000000   \n",
       "max                                  1.000000   \n",
       "\n",
       "       Difference_Date_Medical_Consultation_6  \\\n",
       "count                           110527.000000   \n",
       "mean                                 0.031069   \n",
       "std                                  0.173506   \n",
       "min                                  0.000000   \n",
       "25%                                  0.000000   \n",
       "50%                                  0.000000   \n",
       "75%                                  0.000000   \n",
       "max                                  1.000000   \n",
       "\n",
       "       Difference_Date_Medical_Consultation_7  \\\n",
       "count                           110527.000000   \n",
       "mean                                 0.020031   \n",
       "std                                  0.140108   \n",
       "min                                  0.000000   \n",
       "25%                                  0.000000   \n",
       "50%                                  0.000000   \n",
       "75%                                  0.000000   \n",
       "max                                  1.000000   \n",
       "\n",
       "       Difference_Date_Medical_Consultation_8  \\\n",
       "count                           110527.000000   \n",
       "mean                                 0.012884   \n",
       "std                                  0.112773   \n",
       "min                                  0.000000   \n",
       "25%                                  0.000000   \n",
       "50%                                  0.000000   \n",
       "75%                                  0.000000   \n",
       "max                                  1.000000   \n",
       "\n",
       "       Difference_Date_Medical_Consultation_9  \n",
       "count                           110527.000000  \n",
       "mean                                 0.006333  \n",
       "std                                  0.079330  \n",
       "min                                  0.000000  \n",
       "25%                                  0.000000  \n",
       "50%                                  0.000000  \n",
       "75%                                  0.000000  \n",
       "max                                  1.000000  \n",
       "\n",
       "[8 rows x 158 columns]"
      ]
     },
     "execution_count": 25,
     "metadata": {},
     "output_type": "execute_result"
    }
   ],
   "source": [
    "data.describe()"
   ]
  },
  {
   "cell_type": "code",
   "execution_count": 26,
   "metadata": {},
   "outputs": [
    {
     "data": {
      "text/plain": [
       "22319"
      ]
     },
     "execution_count": 26,
     "metadata": {},
     "output_type": "execute_result"
    }
   ],
   "source": [
    "ml_data_not_show = data[data['Show'] == False]\n",
    "len(ml_data_not_show)"
   ]
  },
  {
   "cell_type": "code",
   "execution_count": 27,
   "metadata": {},
   "outputs": [
    {
     "data": {
      "text/plain": [
       "22319"
      ]
     },
     "execution_count": 27,
     "metadata": {},
     "output_type": "execute_result"
    }
   ],
   "source": [
    "ml_data_show = data[data['Show'] == True].head(len(ml_data_not_show))\n",
    "len(ml_data_show)"
   ]
  },
  {
   "cell_type": "code",
   "execution_count": 28,
   "metadata": {},
   "outputs": [
    {
     "data": {
      "text/plain": [
       "44638"
      ]
     },
     "execution_count": 28,
     "metadata": {},
     "output_type": "execute_result"
    }
   ],
   "source": [
    "ml_data = ml_data_not_show.append(ml_data_show)\n",
    "len(ml_data)"
   ]
  },
  {
   "cell_type": "code",
   "execution_count": 29,
   "metadata": {},
   "outputs": [
    {
     "data": {
      "text/html": [
       "<div>\n",
       "<style scoped>\n",
       "    .dataframe tbody tr th:only-of-type {\n",
       "        vertical-align: middle;\n",
       "    }\n",
       "\n",
       "    .dataframe tbody tr th {\n",
       "        vertical-align: top;\n",
       "    }\n",
       "\n",
       "    .dataframe thead th {\n",
       "        text-align: right;\n",
       "    }\n",
       "</style>\n",
       "<table border=\"1\" class=\"dataframe\">\n",
       "  <thead>\n",
       "    <tr style=\"text-align: right;\">\n",
       "      <th></th>\n",
       "      <th>Gender</th>\n",
       "      <th>Scholarship</th>\n",
       "      <th>Hipertension</th>\n",
       "      <th>Diabetes</th>\n",
       "      <th>Alcoholism</th>\n",
       "      <th>Handcap</th>\n",
       "      <th>SMS_Received</th>\n",
       "      <th>Show</th>\n",
       "      <th>Scheduled_Day_Friday</th>\n",
       "      <th>Scheduled_Day_Monday</th>\n",
       "      <th>...</th>\n",
       "      <th>Difference_Date_Medical_Consultation_31</th>\n",
       "      <th>Difference_Date_Medical_Consultation_32</th>\n",
       "      <th>Difference_Date_Medical_Consultation_33</th>\n",
       "      <th>Difference_Date_Medical_Consultation_35</th>\n",
       "      <th>Difference_Date_Medical_Consultation_4</th>\n",
       "      <th>Difference_Date_Medical_Consultation_5</th>\n",
       "      <th>Difference_Date_Medical_Consultation_6</th>\n",
       "      <th>Difference_Date_Medical_Consultation_7</th>\n",
       "      <th>Difference_Date_Medical_Consultation_8</th>\n",
       "      <th>Difference_Date_Medical_Consultation_9</th>\n",
       "    </tr>\n",
       "  </thead>\n",
       "  <tbody>\n",
       "    <tr>\n",
       "      <th>6</th>\n",
       "      <td>0</td>\n",
       "      <td>0</td>\n",
       "      <td>0</td>\n",
       "      <td>0</td>\n",
       "      <td>0</td>\n",
       "      <td>0</td>\n",
       "      <td>0</td>\n",
       "      <td>False</td>\n",
       "      <td>0</td>\n",
       "      <td>0</td>\n",
       "      <td>...</td>\n",
       "      <td>0</td>\n",
       "      <td>0</td>\n",
       "      <td>0</td>\n",
       "      <td>0</td>\n",
       "      <td>0</td>\n",
       "      <td>0</td>\n",
       "      <td>0</td>\n",
       "      <td>0</td>\n",
       "      <td>0</td>\n",
       "      <td>0</td>\n",
       "    </tr>\n",
       "    <tr>\n",
       "      <th>7</th>\n",
       "      <td>0</td>\n",
       "      <td>0</td>\n",
       "      <td>0</td>\n",
       "      <td>0</td>\n",
       "      <td>0</td>\n",
       "      <td>0</td>\n",
       "      <td>0</td>\n",
       "      <td>False</td>\n",
       "      <td>0</td>\n",
       "      <td>0</td>\n",
       "      <td>...</td>\n",
       "      <td>0</td>\n",
       "      <td>0</td>\n",
       "      <td>0</td>\n",
       "      <td>0</td>\n",
       "      <td>0</td>\n",
       "      <td>0</td>\n",
       "      <td>0</td>\n",
       "      <td>0</td>\n",
       "      <td>0</td>\n",
       "      <td>0</td>\n",
       "    </tr>\n",
       "    <tr>\n",
       "      <th>11</th>\n",
       "      <td>1</td>\n",
       "      <td>0</td>\n",
       "      <td>0</td>\n",
       "      <td>0</td>\n",
       "      <td>0</td>\n",
       "      <td>0</td>\n",
       "      <td>1</td>\n",
       "      <td>False</td>\n",
       "      <td>0</td>\n",
       "      <td>0</td>\n",
       "      <td>...</td>\n",
       "      <td>0</td>\n",
       "      <td>0</td>\n",
       "      <td>0</td>\n",
       "      <td>0</td>\n",
       "      <td>0</td>\n",
       "      <td>0</td>\n",
       "      <td>0</td>\n",
       "      <td>0</td>\n",
       "      <td>0</td>\n",
       "      <td>0</td>\n",
       "    </tr>\n",
       "    <tr>\n",
       "      <th>17</th>\n",
       "      <td>0</td>\n",
       "      <td>1</td>\n",
       "      <td>0</td>\n",
       "      <td>0</td>\n",
       "      <td>0</td>\n",
       "      <td>0</td>\n",
       "      <td>0</td>\n",
       "      <td>False</td>\n",
       "      <td>0</td>\n",
       "      <td>0</td>\n",
       "      <td>...</td>\n",
       "      <td>0</td>\n",
       "      <td>0</td>\n",
       "      <td>0</td>\n",
       "      <td>0</td>\n",
       "      <td>0</td>\n",
       "      <td>0</td>\n",
       "      <td>0</td>\n",
       "      <td>0</td>\n",
       "      <td>0</td>\n",
       "      <td>0</td>\n",
       "    </tr>\n",
       "    <tr>\n",
       "      <th>20</th>\n",
       "      <td>0</td>\n",
       "      <td>0</td>\n",
       "      <td>0</td>\n",
       "      <td>0</td>\n",
       "      <td>0</td>\n",
       "      <td>0</td>\n",
       "      <td>0</td>\n",
       "      <td>False</td>\n",
       "      <td>0</td>\n",
       "      <td>0</td>\n",
       "      <td>...</td>\n",
       "      <td>0</td>\n",
       "      <td>0</td>\n",
       "      <td>0</td>\n",
       "      <td>0</td>\n",
       "      <td>0</td>\n",
       "      <td>0</td>\n",
       "      <td>0</td>\n",
       "      <td>0</td>\n",
       "      <td>0</td>\n",
       "      <td>0</td>\n",
       "    </tr>\n",
       "  </tbody>\n",
       "</table>\n",
       "<p>5 rows × 159 columns</p>\n",
       "</div>"
      ],
      "text/plain": [
       "    Gender  Scholarship  Hipertension  Diabetes  Alcoholism  Handcap  \\\n",
       "6        0            0             0         0           0        0   \n",
       "7        0            0             0         0           0        0   \n",
       "11       1            0             0         0           0        0   \n",
       "17       0            1             0         0           0        0   \n",
       "20       0            0             0         0           0        0   \n",
       "\n",
       "    SMS_Received   Show  Scheduled_Day_Friday  Scheduled_Day_Monday  \\\n",
       "6              0  False                     0                     0   \n",
       "7              0  False                     0                     0   \n",
       "11             1  False                     0                     0   \n",
       "17             0  False                     0                     0   \n",
       "20             0  False                     0                     0   \n",
       "\n",
       "                     ...                    \\\n",
       "6                    ...                     \n",
       "7                    ...                     \n",
       "11                   ...                     \n",
       "17                   ...                     \n",
       "20                   ...                     \n",
       "\n",
       "    Difference_Date_Medical_Consultation_31  \\\n",
       "6                                         0   \n",
       "7                                         0   \n",
       "11                                        0   \n",
       "17                                        0   \n",
       "20                                        0   \n",
       "\n",
       "    Difference_Date_Medical_Consultation_32  \\\n",
       "6                                         0   \n",
       "7                                         0   \n",
       "11                                        0   \n",
       "17                                        0   \n",
       "20                                        0   \n",
       "\n",
       "    Difference_Date_Medical_Consultation_33  \\\n",
       "6                                         0   \n",
       "7                                         0   \n",
       "11                                        0   \n",
       "17                                        0   \n",
       "20                                        0   \n",
       "\n",
       "    Difference_Date_Medical_Consultation_35  \\\n",
       "6                                         0   \n",
       "7                                         0   \n",
       "11                                        0   \n",
       "17                                        0   \n",
       "20                                        0   \n",
       "\n",
       "    Difference_Date_Medical_Consultation_4  \\\n",
       "6                                        0   \n",
       "7                                        0   \n",
       "11                                       0   \n",
       "17                                       0   \n",
       "20                                       0   \n",
       "\n",
       "    Difference_Date_Medical_Consultation_5  \\\n",
       "6                                        0   \n",
       "7                                        0   \n",
       "11                                       0   \n",
       "17                                       0   \n",
       "20                                       0   \n",
       "\n",
       "    Difference_Date_Medical_Consultation_6  \\\n",
       "6                                        0   \n",
       "7                                        0   \n",
       "11                                       0   \n",
       "17                                       0   \n",
       "20                                       0   \n",
       "\n",
       "    Difference_Date_Medical_Consultation_7  \\\n",
       "6                                        0   \n",
       "7                                        0   \n",
       "11                                       0   \n",
       "17                                       0   \n",
       "20                                       0   \n",
       "\n",
       "    Difference_Date_Medical_Consultation_8  \\\n",
       "6                                        0   \n",
       "7                                        0   \n",
       "11                                       0   \n",
       "17                                       0   \n",
       "20                                       0   \n",
       "\n",
       "    Difference_Date_Medical_Consultation_9  \n",
       "6                                        0  \n",
       "7                                        0  \n",
       "11                                       0  \n",
       "17                                       0  \n",
       "20                                       0  \n",
       "\n",
       "[5 rows x 159 columns]"
      ]
     },
     "execution_count": 29,
     "metadata": {},
     "output_type": "execute_result"
    }
   ],
   "source": [
    "ml_data.head()"
   ]
  },
  {
   "cell_type": "code",
   "execution_count": 30,
   "metadata": {},
   "outputs": [],
   "source": [
    "y = ml_data.Show\n",
    "X = ml_data.drop('Show', axis=1)"
   ]
  },
  {
   "cell_type": "code",
   "execution_count": 31,
   "metadata": {},
   "outputs": [],
   "source": [
    "X_train, X_test, y_train, y_test = train_test_split(X, y,\n",
    "                                                    test_size=0.2,\n",
    "                                                    random_state=8)"
   ]
  },
  {
   "cell_type": "code",
   "execution_count": 32,
   "metadata": {},
   "outputs": [
    {
     "data": {
      "text/plain": [
       "35710"
      ]
     },
     "execution_count": 32,
     "metadata": {},
     "output_type": "execute_result"
    }
   ],
   "source": [
    "len(X_train)"
   ]
  },
  {
   "cell_type": "code",
   "execution_count": 33,
   "metadata": {},
   "outputs": [
    {
     "data": {
      "text/plain": [
       "8928"
      ]
     },
     "execution_count": 33,
     "metadata": {},
     "output_type": "execute_result"
    }
   ],
   "source": [
    "len(X_test)"
   ]
  },
  {
   "cell_type": "code",
   "execution_count": 34,
   "metadata": {},
   "outputs": [
    {
     "name": "stdout",
     "output_type": "stream",
     "text": [
      "0.5267697132616488\n",
      "0.5666402744787543\n",
      "0.5277471551943385\n",
      "{'priors': None}\n"
     ]
    }
   ],
   "source": [
    "gaussian_nb = None\n",
    "\n",
    "if Path('models/GaussianNB.pkl').is_file():\n",
    "    gaussian_nb = joblib.load('models/GaussianNB.pkl')\n",
    "else:\n",
    "    gaussian_nb = GaussianNB()\n",
    "    gaussian_nb.fit(X_train, y_train)\n",
    "    joblib.dump(gaussian_nb, 'models/GaussianNB.pkl')\n",
    "\n",
    "pred = gaussian_nb.predict(X_test)\n",
    "\n",
    "print(accuracy_score(y_test, pred, normalize=True))\n",
    "print(fbeta_score(y_test, pred, beta=0.5))\n",
    "print(roc_auc_score(y_test, pred))\n",
    "print(gaussian_nb.get_params())"
   ]
  },
  {
   "cell_type": "code",
   "execution_count": 35,
   "metadata": {},
   "outputs": [
    {
     "name": "stdout",
     "output_type": "stream",
     "text": [
      "0.6658826164874552\n",
      "0.6634805821062603\n",
      "0.6659409080936425\n",
      "{'alpha': 0.0001, 'average': False, 'class_weight': None, 'epsilon': 0.1, 'eta0': 0.0, 'fit_intercept': True, 'l1_ratio': 0.15, 'learning_rate': 'optimal', 'loss': 'hinge', 'max_iter': None, 'n_iter': None, 'n_jobs': 1, 'penalty': 'l2', 'power_t': 0.5, 'random_state': 8, 'shuffle': True, 'tol': None, 'verbose': 0, 'warm_start': False}\n"
     ]
    }
   ],
   "source": [
    "sgd_classifier = None\n",
    "\n",
    "if Path('models/SGDClassifier.pkl').is_file():\n",
    "    sgd_classifier = joblib.load('models/SGDClassifier.pkl')\n",
    "else:\n",
    "    sgd_classifier = SGDClassifier(random_state=8)\n",
    "    sgd_classifier.fit(X_train, y_train)\n",
    "    joblib.dump(sgd_classifier, 'models/SGDClassifier.pkl')\n",
    "\n",
    "pred = sgd_classifier.predict(X_test)\n",
    "\n",
    "print(accuracy_score(y_test, pred, normalize=True))\n",
    "print(fbeta_score(y_test, pred, beta=0.5))\n",
    "print(roc_auc_score(y_test, pred))\n",
    "print(sgd_classifier.get_params())"
   ]
  },
  {
   "cell_type": "code",
   "execution_count": 36,
   "metadata": {},
   "outputs": [
    {
     "name": "stdout",
     "output_type": "stream",
     "text": [
      "0.6805555555555556\n",
      "0.6806783988328623\n",
      "0.6805328757743939\n",
      "{'class_weight': None, 'criterion': 'gini', 'max_depth': None, 'max_features': None, 'max_leaf_nodes': None, 'min_impurity_decrease': 0.0, 'min_impurity_split': None, 'min_samples_leaf': 1, 'min_samples_split': 2, 'min_weight_fraction_leaf': 0.0, 'presort': False, 'random_state': 8, 'splitter': 'best'}\n"
     ]
    }
   ],
   "source": [
    "decision_tree_classifier = None\n",
    "\n",
    "if Path('models/DecisionTreeClassifier.pkl').is_file():\n",
    "    decision_tree_classifier = joblib.load('models/DecisionTreeClassifier.pkl')\n",
    "else:\n",
    "    decision_tree_classifier = DecisionTreeClassifier(random_state=8)\n",
    "    decision_tree_classifier.fit(X_train, y_train)\n",
    "    joblib.dump(decision_tree_classifier, 'models/DecisionTreeClassifier.pkl')\n",
    "\n",
    "pred = decision_tree_classifier.predict(X_test)\n",
    "\n",
    "print(accuracy_score(y_test, pred, normalize=True))\n",
    "print(fbeta_score(y_test, pred, beta=0.5))\n",
    "print(roc_auc_score(y_test, pred))\n",
    "print(decision_tree_classifier.get_params())"
   ]
  },
  {
   "cell_type": "code",
   "execution_count": 37,
   "metadata": {},
   "outputs": [
    {
     "name": "stdout",
     "output_type": "stream",
     "text": [
      "0.6967965949820788\n",
      "0.7026881192975571\n",
      "0.6966768932267239\n",
      "{'bootstrap': True, 'class_weight': None, 'criterion': 'gini', 'max_depth': None, 'max_features': 'auto', 'max_leaf_nodes': None, 'min_impurity_decrease': 0.0, 'min_impurity_split': None, 'min_samples_leaf': 1, 'min_samples_split': 2, 'min_weight_fraction_leaf': 0.0, 'n_estimators': 10, 'n_jobs': 1, 'oob_score': False, 'random_state': 8, 'verbose': 0, 'warm_start': False}\n"
     ]
    }
   ],
   "source": [
    "random_forest_classifier = None\n",
    "\n",
    "if Path('models/RandomForestClassifier.pkl').is_file():\n",
    "    random_forest_classifier = joblib.load('models/RandomForestClassifier.pkl')\n",
    "else:\n",
    "    random_forest_classifier = RandomForestClassifier(random_state=8)\n",
    "    random_forest_classifier.fit(X_train, y_train)\n",
    "    joblib.dump(random_forest_classifier, 'models/RandomForestClassifier.pkl')\n",
    "\n",
    "pred = random_forest_classifier.predict(X_test)\n",
    "\n",
    "print(accuracy_score(y_test, pred, normalize=True))\n",
    "print(fbeta_score(y_test, pred, beta=0.5))\n",
    "print(roc_auc_score(y_test, pred))\n",
    "print(random_forest_classifier.get_params())"
   ]
  },
  {
   "cell_type": "code",
   "execution_count": 38,
   "metadata": {},
   "outputs": [
    {
     "name": "stdout",
     "output_type": "stream",
     "text": [
      "0.6822356630824373\n",
      "0.6822523423997089\n",
      "0.6822162536063779\n",
      "{'algorithm': 'SAMME.R', 'base_estimator': None, 'learning_rate': 1.0, 'n_estimators': 50, 'random_state': 8}\n"
     ]
    }
   ],
   "source": [
    "ada_boost_classifier = None\n",
    "\n",
    "if Path('models/AdaBoostClassifier.pkl').is_file():\n",
    "    ada_boost_classifier = joblib.load('models/AdaBoostClassifier.pkl')\n",
    "else:\n",
    "    ada_boost_classifier = AdaBoostClassifier(random_state=8)\n",
    "    ada_boost_classifier.fit(X_train, y_train)\n",
    "    joblib.dump(ada_boost_classifier, 'models/AdaBoostClassifier.pkl')\n",
    "\n",
    "pred = ada_boost_classifier.predict(X_test)\n",
    "\n",
    "print(accuracy_score(y_test, pred, normalize=True))\n",
    "print(fbeta_score(y_test, pred, beta=0.5))\n",
    "print(roc_auc_score(y_test, pred))\n",
    "print(ada_boost_classifier.get_params())"
   ]
  },
  {
   "cell_type": "code",
   "execution_count": 39,
   "metadata": {},
   "outputs": [
    {
     "name": "stdout",
     "output_type": "stream",
     "text": [
      "0.6798835125448028\n",
      "0.6821411653244908\n",
      "0.679809141235927\n",
      "{'criterion': 'friedman_mse', 'init': None, 'learning_rate': 0.1, 'loss': 'deviance', 'max_depth': 3, 'max_features': None, 'max_leaf_nodes': None, 'min_impurity_decrease': 0.0, 'min_impurity_split': None, 'min_samples_leaf': 1, 'min_samples_split': 2, 'min_weight_fraction_leaf': 0.0, 'n_estimators': 100, 'presort': 'auto', 'random_state': 8, 'subsample': 1.0, 'verbose': 0, 'warm_start': False}\n"
     ]
    }
   ],
   "source": [
    "gradient_boosting_classifier = None\n",
    "\n",
    "if Path('models/GradientBoostingClassifier.pkl').is_file():\n",
    "    gradient_boosting_classifier = joblib.load('models/GradientBoostingClassifier.pkl')\n",
    "else:\n",
    "    gradient_boosting_classifier = GradientBoostingClassifier(random_state=8)\n",
    "    gradient_boosting_classifier.fit(X_train, y_train)\n",
    "    joblib.dump(gradient_boosting_classifier, 'models/GradientBoostingClassifier.pkl')\n",
    "\n",
    "pred = gradient_boosting_classifier.predict(X_test)\n",
    "\n",
    "print(accuracy_score(y_test, pred, normalize=True))\n",
    "print(fbeta_score(y_test, pred, beta=0.5))\n",
    "print(roc_auc_score(y_test, pred))\n",
    "print(gradient_boosting_classifier.get_params())"
   ]
  },
  {
   "cell_type": "code",
   "execution_count": 40,
   "metadata": {},
   "outputs": [
    {
     "name": "stdout",
     "output_type": "stream",
     "text": [
      "0.5300179211469535\n",
      "0.5634815624460681\n",
      "0.5307994160342479\n",
      "{'C': 1.0, 'cache_size': 200, 'class_weight': None, 'coef0': 0.0, 'decision_function_shape': 'ovr', 'degree': 3, 'gamma': 'auto', 'kernel': 'rbf', 'max_iter': 1000, 'probability': False, 'random_state': 8, 'shrinking': True, 'tol': 0.001, 'verbose': False}\n"
     ]
    }
   ],
   "source": [
    "svc = None\n",
    "\n",
    "if Path('models/SVC.pkl').is_file():\n",
    "    svc = joblib.load('models/SVC.pkl')\n",
    "else:\n",
    "    svc = SVC(random_state=8, max_iter=1000)\n",
    "    svc.fit(X_train, y_train)\n",
    "    joblib.dump(svc, 'models/SVC.pkl')\n",
    "\n",
    "pred = svc.predict(X_test)\n",
    "\n",
    "print(accuracy_score(y_test, pred, normalize=True))\n",
    "print(fbeta_score(y_test, pred, beta=0.5))\n",
    "print(roc_auc_score(y_test, pred))\n",
    "print(svc.get_params())"
   ]
  },
  {
   "cell_type": "code",
   "execution_count": 41,
   "metadata": {},
   "outputs": [
    {
     "name": "stdout",
     "output_type": "stream",
     "text": [
      "0.6859318996415771\n",
      "0.6847119579734663\n",
      "0.6859423674058308\n",
      "{'C': 1.0, 'class_weight': None, 'dual': False, 'fit_intercept': True, 'intercept_scaling': 1, 'max_iter': 100, 'multi_class': 'ovr', 'n_jobs': 1, 'penalty': 'l2', 'random_state': 8, 'solver': 'liblinear', 'tol': 0.0001, 'verbose': 0, 'warm_start': False}\n"
     ]
    }
   ],
   "source": [
    "logistic_regression = None\n",
    "\n",
    "if Path('models/LogisticRegression.pkl').is_file():\n",
    "    logistic_regression = joblib.load('models/LogisticRegression.pkl')\n",
    "else:\n",
    "    logistic_regression = LogisticRegression(random_state=8)\n",
    "    logistic_regression.fit(X_train, y_train)\n",
    "    joblib.dump(logistic_regression, 'models/LogisticRegression.pkl')\n",
    "\n",
    "pred = logistic_regression.predict(X_test)\n",
    "\n",
    "print(accuracy_score(y_test, pred, normalize=True))\n",
    "print(fbeta_score(y_test, pred, beta=0.5))\n",
    "print(roc_auc_score(y_test, pred))\n",
    "print(logistic_regression.get_params())"
   ]
  },
  {
   "cell_type": "code",
   "execution_count": 42,
   "metadata": {},
   "outputs": [
    {
     "name": "stdout",
     "output_type": "stream",
     "text": [
      "0.6851478494623656\n",
      "0.685783818532464\n",
      "0.6851154071049435\n",
      "{'class_weight': None, 'criterion': 'gini', 'max_depth': None, 'max_features': None, 'max_leaf_nodes': None, 'min_impurity_decrease': 0, 'min_impurity_split': None, 'min_samples_leaf': 3, 'min_samples_split': 2, 'min_weight_fraction_leaf': 0, 'presort': True, 'random_state': 8, 'splitter': 'random'}\n"
     ]
    }
   ],
   "source": [
    "refined_decision_tree_classifier = None\n",
    "\n",
    "if Path('models/Refined_DecisionTreeClassifier.pkl').is_file():\n",
    "    refined_decision_tree_classifier = joblib.load('models/Refined_DecisionTreeClassifier.pkl')\n",
    "else:\n",
    "    refined_decision_tree_classifier = DecisionTreeClassifier()\n",
    "    parameters = {'criterion': ['gini', 'entropy'], 'splitter': ['best', 'random'], 'min_samples_split': [2, 3, 4], 'min_samples_leaf': [1, 2, 3], 'min_weight_fraction_leaf': [0, 0.25, 0.5], 'min_impurity_decrease': [0, 0.25, 0.5], 'presort': [True, False], 'random_state': [8]}\n",
    "    grid_search_cv = GridSearchCV(refined_decision_tree_classifier, parameters)\n",
    "    grid_search_cv.fit(X_train, y_train)\n",
    "    refined_decision_tree_classifier = grid_search_cv.best_estimator_\n",
    "    joblib.dump(refined_decision_tree_classifier, 'models/Refined_DecisionTreeClassifier.pkl')\n",
    "\n",
    "pred = refined_decision_tree_classifier.predict(X_test)\n",
    "\n",
    "print(accuracy_score(y_test, pred, normalize=True))\n",
    "print(fbeta_score(y_test, pred, beta=0.5))\n",
    "print(roc_auc_score(y_test, pred))\n",
    "print(refined_decision_tree_classifier.get_params())"
   ]
  },
  {
   "cell_type": "code",
   "execution_count": 43,
   "metadata": {},
   "outputs": [
    {
     "name": "stdout",
     "output_type": "stream",
     "text": [
      "0.709005376344086\n",
      "0.7118136750537835\n",
      "0.7089482132860037\n",
      "{'bootstrap': True, 'class_weight': None, 'criterion': 'entropy', 'max_depth': None, 'max_features': 'auto', 'max_leaf_nodes': None, 'min_impurity_decrease': 0.0, 'min_impurity_split': None, 'min_samples_leaf': 2, 'min_samples_split': 2, 'min_weight_fraction_leaf': 0.0, 'n_estimators': 10, 'n_jobs': 1, 'oob_score': True, 'random_state': 8, 'verbose': 0, 'warm_start': False}\n"
     ]
    }
   ],
   "source": [
    "refined_random_forest_classifier = None\n",
    "\n",
    "if Path('models/Refined_RandomForestClassifier.pkl').is_file():\n",
    "    refined_random_forest_classifier = joblib.load('models/Refined_RandomForestClassifier.pkl')\n",
    "else:\n",
    "    refined_random_forest_classifier = RandomForestClassifier()\n",
    "    parameters = {'criterion': ['gini', 'entropy'], 'min_samples_leaf': [1, 2, 3], 'oob_score': [True, False], 'random_state': [8]}\n",
    "    grid_search_cv = GridSearchCV(refined_random_forest_classifier, parameters)\n",
    "    grid_search_cv.fit(X_train, y_train)\n",
    "    refined_random_forest_classifier = grid_search_cv.best_estimator_\n",
    "    joblib.dump(refined_random_forest_classifier, 'models/Refined_RandomForestClassifier.pkl')\n",
    "\n",
    "pred = refined_random_forest_classifier.predict(X_test)\n",
    "\n",
    "print(accuracy_score(y_test, pred, normalize=True))\n",
    "print(fbeta_score(y_test, pred, beta=0.5))\n",
    "print(roc_auc_score(y_test, pred))\n",
    "print(refined_random_forest_classifier.get_params())"
   ]
  },
  {
   "cell_type": "code",
   "execution_count": 44,
   "metadata": {},
   "outputs": [
    {
     "name": "stdout",
     "output_type": "stream",
     "text": [
      "0.683915770609319\n",
      "0.6828321584723832\n",
      "0.6839232172955994\n",
      "{'algorithm': 'SAMME.R', 'base_estimator': None, 'learning_rate': 1.0, 'n_estimators': 100, 'random_state': 8}\n"
     ]
    }
   ],
   "source": [
    "refined_ada_boost_classifier = None\n",
    "\n",
    "if Path('models/Refined_AdaBoostClassifier.pkl').is_file():\n",
    "    refined_ada_boost_classifier = joblib.load('models/Refined_AdaBoostClassifier.pkl')\n",
    "else:\n",
    "    refined_ada_boost_classifier = AdaBoostClassifier()\n",
    "    parameters = {'n_estimators': [50, 100, 150], 'learning_rate': [1.0, 2.0, 3.0], 'algorithm': ['SAMME', 'SAMME.R'], 'random_state': [8]}\n",
    "    grid_search_cv = GridSearchCV(refined_ada_boost_classifier, parameters)\n",
    "    grid_search_cv.fit(X_train, y_train)\n",
    "    refined_ada_boost_classifier = grid_search_cv.best_estimator_\n",
    "    joblib.dump(refined_ada_boost_classifier, 'models/Refined_AdaBoostClassifier.pkl')\n",
    "\n",
    "pred = refined_ada_boost_classifier.predict(X_test)\n",
    "\n",
    "print(accuracy_score(y_test, pred, normalize=True))\n",
    "print(fbeta_score(y_test, pred, beta=0.5))\n",
    "print(roc_auc_score(y_test, pred))\n",
    "print(refined_ada_boost_classifier.get_params())"
   ]
  },
  {
   "cell_type": "code",
   "execution_count": 45,
   "metadata": {},
   "outputs": [
    {
     "name": "stdout",
     "output_type": "stream",
     "text": [
      "0.6857078853046595\n",
      "0.6844681797952826\n",
      "0.685718853771499\n",
      "{'C': 1, 'class_weight': None, 'dual': False, 'fit_intercept': False, 'intercept_scaling': 1, 'max_iter': 100, 'multi_class': 'ovr', 'n_jobs': 1, 'penalty': 'l2', 'random_state': 8, 'solver': 'newton-cg', 'tol': 0.0001, 'verbose': 0, 'warm_start': False}\n"
     ]
    }
   ],
   "source": [
    "refined_logistic_regression = None\n",
    "\n",
    "if Path('models/Refined_LogisticRegression.pkl').is_file():\n",
    "    refined_logistic_regression = joblib.load('models/Refined_LogisticRegression.pkl')\n",
    "else:\n",
    "    refined_logistic_regression = LogisticRegression()\n",
    "    parameters = {'C': [0.1, 1, 10], 'fit_intercept': [True, False], 'intercept_scaling': [1, 10, 100], 'random_state': [8], 'solver': ['newton-cg', 'lbfgs', 'liblinear', 'sag', 'saga']}\n",
    "    grid_search_cv = GridSearchCV(refined_logistic_regression, parameters)\n",
    "    grid_search_cv.fit(X_train, y_train)\n",
    "    refined_logistic_regression = grid_search_cv.best_estimator_\n",
    "    joblib.dump(refined_logistic_regression, 'models/Refined_LogisticRegression.pkl')\n",
    "\n",
    "pred = refined_logistic_regression.predict(X_test)\n",
    "\n",
    "print(accuracy_score(y_test, pred, normalize=True))\n",
    "print(fbeta_score(y_test, pred, beta=0.5))\n",
    "print(roc_auc_score(y_test, pred))\n",
    "print(refined_logistic_regression.get_params())"
   ]
  },
  {
   "cell_type": "markdown",
   "metadata": {},
   "source": [
    "# Check Machine Learning Algorithm With All Data "
   ]
  },
  {
   "cell_type": "code",
   "execution_count": 46,
   "metadata": {},
   "outputs": [],
   "source": [
    "full_y = data.Show\n",
    "full_X = data.drop('Show', axis=1)"
   ]
  },
  {
   "cell_type": "code",
   "execution_count": 47,
   "metadata": {},
   "outputs": [
    {
     "data": {
      "text/plain": [
       "110527"
      ]
     },
     "execution_count": 47,
     "metadata": {},
     "output_type": "execute_result"
    }
   ],
   "source": [
    "len(data)"
   ]
  },
  {
   "cell_type": "code",
   "execution_count": 48,
   "metadata": {},
   "outputs": [
    {
     "name": "stdout",
     "output_type": "stream",
     "text": [
      "0.6238385190948817\n",
      "0.8256019691311274\n",
      "0.6982471317403187\n"
     ]
    }
   ],
   "source": [
    "refined_decision_tree_classifier = joblib.load('models/Refined_DecisionTreeClassifier.pkl')\n",
    "\n",
    "pred = refined_decision_tree_classifier.predict(full_X)\n",
    "\n",
    "print(accuracy_score(full_y, pred, normalize=True))\n",
    "print(fbeta_score(full_y, pred, beta=0.5))\n",
    "print(roc_auc_score(full_y, pred))"
   ]
  },
  {
   "cell_type": "code",
   "execution_count": 49,
   "metadata": {},
   "outputs": [
    {
     "name": "stdout",
     "output_type": "stream",
     "text": [
      "0.6288508690184299\n",
      "0.8273384769952085\n",
      "0.6972039321527738\n"
     ]
    }
   ],
   "source": [
    "refined_random_forest_classifier = joblib.load('models/Refined_RandomForestClassifier.pkl')\n",
    "\n",
    "pred = refined_random_forest_classifier.predict(full_X)\n",
    "\n",
    "print(accuracy_score(full_y, pred, normalize=True))\n",
    "print(fbeta_score(full_y, pred, beta=0.5))\n",
    "print(roc_auc_score(full_y, pred))"
   ]
  },
  {
   "cell_type": "code",
   "execution_count": 50,
   "metadata": {},
   "outputs": [
    {
     "name": "stdout",
     "output_type": "stream",
     "text": [
      "0.5798764102888887\n",
      "0.7824173999667939\n",
      "0.6156828296439422\n"
     ]
    }
   ],
   "source": [
    "refined_ada_boost_classifier = joblib.load('models/Refined_AdaBoostClassifier.pkl')\n",
    "\n",
    "pred = refined_ada_boost_classifier.predict(full_X)\n",
    "\n",
    "print(accuracy_score(full_y, pred, normalize=True))\n",
    "print(fbeta_score(full_y, pred, beta=0.5))\n",
    "print(roc_auc_score(full_y, pred))"
   ]
  },
  {
   "cell_type": "code",
   "execution_count": 51,
   "metadata": {},
   "outputs": [
    {
     "name": "stdout",
     "output_type": "stream",
     "text": [
      "0.5816497326445123\n",
      "0.7833710767038586\n",
      "0.6159069370669169\n"
     ]
    }
   ],
   "source": [
    "refined_logistic_regression = joblib.load('models/Refined_LogisticRegression.pkl')\n",
    "\n",
    "pred = refined_logistic_regression.predict(full_X)\n",
    "\n",
    "print(accuracy_score(full_y, pred, normalize=True))\n",
    "print(fbeta_score(full_y, pred, beta=0.5))\n",
    "print(roc_auc_score(full_y, pred))"
   ]
  },
  {
   "cell_type": "code",
   "execution_count": 52,
   "metadata": {},
   "outputs": [
    {
     "name": "stdout",
     "output_type": "stream",
     "text": [
      "0.6462131424900703\n",
      "0.8509508091566329\n",
      "0.7476073791531948\n"
     ]
    }
   ],
   "source": [
    "random_forest_classifier = joblib.load('models/RandomForestClassifier.pkl')\n",
    "\n",
    "pred = random_forest_classifier.predict(full_X)\n",
    "\n",
    "print(accuracy_score(full_y, pred, normalize=True))\n",
    "print(fbeta_score(full_y, pred, beta=0.5))\n",
    "print(roc_auc_score(full_y, pred))"
   ]
  },
  {
   "cell_type": "code",
   "execution_count": 53,
   "metadata": {},
   "outputs": [
    {
     "name": "stdout",
     "output_type": "stream",
     "text": [
      "0.5784468953287432\n",
      "0.7821840410351344\n",
      "0.6177491403283071\n"
     ]
    }
   ],
   "source": [
    "ada_boost_classifier = joblib.load('models/AdaBoostClassifier.pkl')\n",
    "\n",
    "pred = ada_boost_classifier.predict(full_X)\n",
    "\n",
    "print(accuracy_score(full_y, pred, normalize=True))\n",
    "print(fbeta_score(full_y, pred, beta=0.5))\n",
    "print(roc_auc_score(full_y, pred))"
   ]
  },
  {
   "cell_type": "code",
   "execution_count": 54,
   "metadata": {},
   "outputs": [
    {
     "name": "stdout",
     "output_type": "stream",
     "text": [
      "0.6010929456150986\n",
      "0.7995772044861895\n",
      "0.6427473710010319\n"
     ]
    }
   ],
   "source": [
    "gradient_boosting_classifier = joblib.load('models/GradientBoostingClassifier.pkl')\n",
    "\n",
    "pred = gradient_boosting_classifier.predict(full_X)\n",
    "\n",
    "print(accuracy_score(full_y, pred, normalize=True))\n",
    "print(fbeta_score(full_y, pred, beta=0.5))\n",
    "print(roc_auc_score(full_y, pred))"
   ]
  },
  {
   "cell_type": "code",
   "execution_count": 55,
   "metadata": {},
   "outputs": [
    {
     "name": "stdout",
     "output_type": "stream",
     "text": [
      "0.7572448361033955\n",
      "0.8234940196893954\n",
      "0.5099336732015657\n"
     ]
    }
   ],
   "source": [
    "gaussian_nb = joblib.load('models/GaussianNB.pkl')\n",
    "\n",
    "pred = gaussian_nb.predict(full_X)\n",
    "\n",
    "print(accuracy_score(full_y, pred, normalize=True))\n",
    "print(fbeta_score(full_y, pred, beta=0.5))\n",
    "print(roc_auc_score(full_y, pred))"
   ]
  },
  {
   "cell_type": "code",
   "execution_count": 56,
   "metadata": {},
   "outputs": [
    {
     "name": "stdout",
     "output_type": "stream",
     "text": [
      "0.6638016050376832\n",
      "0.8621981545710359\n",
      "0.761722581021749\n"
     ]
    }
   ],
   "source": [
    "decision_tree_classifier = joblib.load('models/DecisionTreeClassifier.pkl')\n",
    "\n",
    "pred = decision_tree_classifier.predict(full_X)\n",
    "\n",
    "print(accuracy_score(full_y, pred, normalize=True))\n",
    "print(fbeta_score(full_y, pred, beta=0.5))\n",
    "print(roc_auc_score(full_y, pred))"
   ]
  },
  {
   "cell_type": "code",
   "execution_count": 57,
   "metadata": {},
   "outputs": [
    {
     "name": "stdout",
     "output_type": "stream",
     "text": [
      "0.7297402444651533\n",
      "0.8189212877848561\n",
      "0.5248142552780048\n"
     ]
    }
   ],
   "source": [
    "svc = joblib.load('models/SVC.pkl')\n",
    "\n",
    "pred = svc.predict(full_X)\n",
    "\n",
    "print(accuracy_score(full_y, pred, normalize=True))\n",
    "print(fbeta_score(full_y, pred, beta=0.5))\n",
    "print(roc_auc_score(full_y, pred))"
   ]
  },
  {
   "cell_type": "code",
   "execution_count": 58,
   "metadata": {},
   "outputs": [
    {
     "name": "stdout",
     "output_type": "stream",
     "text": [
      "0.5815321143250065\n",
      "0.7833019444161663\n",
      "0.615866715640218\n"
     ]
    }
   ],
   "source": [
    "logistic_regression = joblib.load('models/LogisticRegression.pkl')\n",
    "\n",
    "pred = logistic_regression.predict(full_X)\n",
    "\n",
    "print(accuracy_score(full_y, pred, normalize=True))\n",
    "print(fbeta_score(full_y, pred, beta=0.5))\n",
    "print(roc_auc_score(full_y, pred))"
   ]
  },
  {
   "cell_type": "code",
   "execution_count": 59,
   "metadata": {},
   "outputs": [
    {
     "name": "stdout",
     "output_type": "stream",
     "text": [
      "0.5724755037230722\n",
      "0.7737338385809424\n",
      "0.5947136611314753\n"
     ]
    }
   ],
   "source": [
    "sgd_classifier = joblib.load('models/SGDClassifier.pkl')\n",
    "\n",
    "pred = sgd_classifier.predict(full_X)\n",
    "\n",
    "print(accuracy_score(full_y, pred, normalize=True))\n",
    "print(fbeta_score(full_y, pred, beta=0.5))\n",
    "print(roc_auc_score(full_y, pred))"
   ]
  },
  {
   "cell_type": "markdown",
   "metadata": {},
   "source": [
    "# Save Decision Tree Classifier in PDF"
   ]
  },
  {
   "cell_type": "code",
   "execution_count": 60,
   "metadata": {},
   "outputs": [
    {
     "data": {
      "text/plain": [
       "'refined_decision_tree_classifier_image.pdf'"
      ]
     },
     "execution_count": 60,
     "metadata": {},
     "output_type": "execute_result"
    }
   ],
   "source": [
    "refined_decision_tree_classifier_image = tree.export_graphviz(refined_decision_tree_classifier, out_file=None) \n",
    "graph = graphviz.Source(refined_decision_tree_classifier_image, format='pdf') \n",
    "graph.render('refined_decision_tree_classifier_image')"
   ]
  },
  {
   "cell_type": "markdown",
   "metadata": {},
   "source": [
    "# Machine Learning With All Data"
   ]
  },
  {
   "cell_type": "code",
   "execution_count": 61,
   "metadata": {},
   "outputs": [],
   "source": [
    "y_full = data.Show\n",
    "X_full = data.drop('Show', axis=1)"
   ]
  },
  {
   "cell_type": "code",
   "execution_count": 62,
   "metadata": {},
   "outputs": [],
   "source": [
    "X_train_full, X_test_full, y_train_full, y_test_full = train_test_split(X_full, y_full,\n",
    "                                                                        test_size=0.2,\n",
    "                                                                        random_state=8)"
   ]
  },
  {
   "cell_type": "code",
   "execution_count": 63,
   "metadata": {},
   "outputs": [
    {
     "name": "stdout",
     "output_type": "stream",
     "text": [
      "88421\n",
      "22106\n"
     ]
    }
   ],
   "source": [
    "print(len(X_train_full))\n",
    "print(len(X_test_full))"
   ]
  },
  {
   "cell_type": "code",
   "execution_count": 64,
   "metadata": {},
   "outputs": [
    {
     "name": "stdout",
     "output_type": "stream",
     "text": [
      "0.5931421333574595\n",
      "0.7862785926447623\n",
      "0.6075715861256443\n",
      "{'priors': None}\n"
     ]
    }
   ],
   "source": [
    "full_gaussian_nb = None\n",
    "\n",
    "if Path('models/Full_GaussianNB.pkl').is_file():\n",
    "    full_gaussian_nb = joblib.load('models/Full_GaussianNB.pkl')\n",
    "else:\n",
    "    full_gaussian_nb = GaussianNB()\n",
    "    full_gaussian_nb.fit(X_train_full, y_train_full)\n",
    "    joblib.dump(full_gaussian_nb, 'models/Full_GaussianNB.pkl')\n",
    "\n",
    "pred = full_gaussian_nb.predict(X_test_full)\n",
    "\n",
    "print(accuracy_score(y_test_full, pred, normalize=True))\n",
    "print(fbeta_score(y_test_full, pred, beta=0.5))\n",
    "print(roc_auc_score(y_test_full, pred))\n",
    "print(gaussian_nb.get_params())"
   ]
  },
  {
   "cell_type": "code",
   "execution_count": 65,
   "metadata": {},
   "outputs": [
    {
     "name": "stdout",
     "output_type": "stream",
     "text": [
      "0.7966163032660816\n",
      "0.8303940245581606\n",
      "0.5\n",
      "{'alpha': 0.0001, 'average': False, 'class_weight': None, 'epsilon': 0.1, 'eta0': 0.0, 'fit_intercept': True, 'l1_ratio': 0.15, 'learning_rate': 'optimal', 'loss': 'hinge', 'max_iter': None, 'n_iter': None, 'n_jobs': 1, 'penalty': 'l2', 'power_t': 0.5, 'random_state': 8, 'shuffle': True, 'tol': None, 'verbose': 0, 'warm_start': False}\n"
     ]
    }
   ],
   "source": [
    "full_sgd_classifier = None\n",
    "\n",
    "if Path('models/Full_SGDClassifier.pkl').is_file():\n",
    "    full_sgd_classifier = joblib.load('models/Full_SGDClassifier.pkl')\n",
    "else:\n",
    "    full_sgd_classifier = SGDClassifier(random_state=8)\n",
    "    full_sgd_classifier.fit(X_train_full, y_train_full)\n",
    "    joblib.dump(full_sgd_classifier, 'models/Full_SGDClassifier.pkl')\n",
    "\n",
    "pred = full_sgd_classifier.predict(X_test_full)\n",
    "\n",
    "print(accuracy_score(y_test_full, pred, normalize=True))\n",
    "print(fbeta_score(y_test_full, pred, beta=0.5))\n",
    "print(roc_auc_score(y_test_full, pred))\n",
    "print(sgd_classifier.get_params())"
   ]
  },
  {
   "cell_type": "code",
   "execution_count": 66,
   "metadata": {},
   "outputs": [
    {
     "name": "stdout",
     "output_type": "stream",
     "text": [
      "0.7353207274043246\n",
      "0.832038725655747\n",
      "0.5835169908111899\n",
      "{'class_weight': None, 'criterion': 'gini', 'max_depth': None, 'max_features': None, 'max_leaf_nodes': None, 'min_impurity_decrease': 0.0, 'min_impurity_split': None, 'min_samples_leaf': 1, 'min_samples_split': 2, 'min_weight_fraction_leaf': 0.0, 'presort': False, 'random_state': 8, 'splitter': 'best'}\n"
     ]
    }
   ],
   "source": [
    "full_decision_tree_classifier = None\n",
    "\n",
    "if Path('models/Full_DecisionTreeClassifier.pkl').is_file():\n",
    "    full_decision_tree_classifier = joblib.load('models/Full_DecisionTreeClassifier.pkl')\n",
    "else:\n",
    "    full_decision_tree_classifier = DecisionTreeClassifier(random_state=8)\n",
    "    full_decision_tree_classifier.fit(X_train_full, y_train_full)\n",
    "    joblib.dump(full_decision_tree_classifier, 'models/Full_DecisionTreeClassifier.pkl')\n",
    "\n",
    "pred = full_decision_tree_classifier.predict(X_test_full)\n",
    "\n",
    "print(accuracy_score(y_test_full, pred, normalize=True))\n",
    "print(fbeta_score(y_test_full, pred, beta=0.5))\n",
    "print(roc_auc_score(y_test_full, pred))\n",
    "print(decision_tree_classifier.get_params())"
   ]
  },
  {
   "cell_type": "code",
   "execution_count": 67,
   "metadata": {},
   "outputs": [
    {
     "name": "stdout",
     "output_type": "stream",
     "text": [
      "0.7654935311680087\n",
      "0.8377526993487622\n",
      "0.5736347761200062\n",
      "{'bootstrap': True, 'class_weight': None, 'criterion': 'gini', 'max_depth': None, 'max_features': 'auto', 'max_leaf_nodes': None, 'min_impurity_decrease': 0.0, 'min_impurity_split': None, 'min_samples_leaf': 1, 'min_samples_split': 2, 'min_weight_fraction_leaf': 0.0, 'n_estimators': 10, 'n_jobs': 1, 'oob_score': False, 'random_state': 8, 'verbose': 0, 'warm_start': False}\n"
     ]
    }
   ],
   "source": [
    "full_random_forest_classifier = None\n",
    "\n",
    "if Path('models/Full_RandomForestClassifier.pkl').is_file():\n",
    "    full_random_forest_classifier = joblib.load('models/Full_RandomForestClassifier.pkl')\n",
    "else:\n",
    "    full_random_forest_classifier = RandomForestClassifier(random_state=8)\n",
    "    full_random_forest_classifier.fit(X_train_full, y_train_full)\n",
    "    joblib.dump(full_random_forest_classifier, 'models/Full_RandomForestClassifier.pkl')\n",
    "\n",
    "pred = full_random_forest_classifier.predict(X_test_full)\n",
    "\n",
    "print(accuracy_score(y_test_full, pred, normalize=True))\n",
    "print(fbeta_score(y_test_full, pred, beta=0.5))\n",
    "print(roc_auc_score(y_test_full, pred))\n",
    "print(random_forest_classifier.get_params())"
   ]
  },
  {
   "cell_type": "code",
   "execution_count": 68,
   "metadata": {},
   "outputs": [
    {
     "name": "stdout",
     "output_type": "stream",
     "text": [
      "0.7962996471546187\n",
      "0.8303451790061712\n",
      "0.5001325173136422\n",
      "{'algorithm': 'SAMME.R', 'base_estimator': None, 'learning_rate': 1.0, 'n_estimators': 50, 'random_state': 8}\n"
     ]
    }
   ],
   "source": [
    "full_ada_boost_classifier = None\n",
    "\n",
    "if Path('models/Full_AdaBoostClassifier.pkl').is_file():\n",
    "    full_ada_boost_classifier = joblib.load('models/Full_AdaBoostClassifier.pkl')\n",
    "else:\n",
    "    full_ada_boost_classifier = AdaBoostClassifier(random_state=8)\n",
    "    full_ada_boost_classifier.fit(X_train_full, y_train_full)\n",
    "    joblib.dump(full_ada_boost_classifier, 'models/Full_AdaBoostClassifier.pkl')\n",
    "\n",
    "pred = full_ada_boost_classifier.predict(X_test_full)\n",
    "\n",
    "print(accuracy_score(y_test_full, pred, normalize=True))\n",
    "print(fbeta_score(y_test_full, pred, beta=0.5))\n",
    "print(roc_auc_score(y_test_full, pred))\n",
    "print(ada_boost_classifier.get_params())"
   ]
  },
  {
   "cell_type": "code",
   "execution_count": 69,
   "metadata": {},
   "outputs": [
    {
     "name": "stdout",
     "output_type": "stream",
     "text": [
      "0.7972496154890075\n",
      "0.8309727494192963\n",
      "0.5023022925545781\n",
      "{'criterion': 'friedman_mse', 'init': None, 'learning_rate': 0.1, 'loss': 'deviance', 'max_depth': 3, 'max_features': None, 'max_leaf_nodes': None, 'min_impurity_decrease': 0.0, 'min_impurity_split': None, 'min_samples_leaf': 1, 'min_samples_split': 2, 'min_weight_fraction_leaf': 0.0, 'n_estimators': 100, 'presort': 'auto', 'random_state': 8, 'subsample': 1.0, 'verbose': 0, 'warm_start': False}\n"
     ]
    }
   ],
   "source": [
    "full_gradient_boosting_classifier = None\n",
    "\n",
    "if Path('models/Full_GradientBoostingClassifier.pkl').is_file():\n",
    "    full_gradient_boosting_classifier = joblib.load('models/Full_GradientBoostingClassifier.pkl')\n",
    "else:\n",
    "    full_gradient_boosting_classifier = GradientBoostingClassifier(random_state=8)\n",
    "    full_gradient_boosting_classifier.fit(X_train_full, y_train_full)\n",
    "    joblib.dump(full_gradient_boosting_classifier, 'models/Full_GradientBoostingClassifier.pkl')\n",
    "\n",
    "pred = full_gradient_boosting_classifier.predict(X_test_full)\n",
    "\n",
    "print(accuracy_score(y_test_full, pred, normalize=True))\n",
    "print(fbeta_score(y_test_full, pred, beta=0.5))\n",
    "print(roc_auc_score(y_test_full, pred))\n",
    "print(gradient_boosting_classifier.get_params())"
   ]
  },
  {
   "cell_type": "code",
   "execution_count": 70,
   "metadata": {},
   "outputs": [
    {
     "name": "stdout",
     "output_type": "stream",
     "text": [
      "0.7026599113362888\n",
      "0.8071263862962557\n",
      "0.509931573980329\n",
      "{'C': 1.0, 'cache_size': 200, 'class_weight': None, 'coef0': 0.0, 'decision_function_shape': 'ovr', 'degree': 3, 'gamma': 'auto', 'kernel': 'rbf', 'max_iter': 1000, 'probability': False, 'random_state': 8, 'shrinking': True, 'tol': 0.001, 'verbose': False}\n"
     ]
    }
   ],
   "source": [
    "full_svc = None\n",
    "\n",
    "if Path('models/Full_SVC.pkl').is_file():\n",
    "    full_svc = joblib.load('models/Full_SVC.pkl')\n",
    "else:\n",
    "    full_svc = SVC(random_state=8, max_iter=1000)\n",
    "    full_svc.fit(X_train_full, y_train_full)\n",
    "    joblib.dump(full_svc, 'models/Full_SVC.pkl')\n",
    "\n",
    "pred = full_svc.predict(X_test_full)\n",
    "\n",
    "print(accuracy_score(y_test_full, pred, normalize=True))\n",
    "print(fbeta_score(y_test_full, pred, beta=0.5))\n",
    "print(roc_auc_score(y_test_full, pred))\n",
    "print(svc.get_params())"
   ]
  },
  {
   "cell_type": "code",
   "execution_count": 71,
   "metadata": {},
   "outputs": [
    {
     "name": "stdout",
     "output_type": "stream",
     "text": [
      "0.7961639373925631\n",
      "0.830421726567074\n",
      "0.5007098744849355\n",
      "{'C': 1.0, 'class_weight': None, 'dual': False, 'fit_intercept': True, 'intercept_scaling': 1, 'max_iter': 100, 'multi_class': 'ovr', 'n_jobs': 1, 'penalty': 'l2', 'random_state': 8, 'solver': 'liblinear', 'tol': 0.0001, 'verbose': 0, 'warm_start': False}\n"
     ]
    }
   ],
   "source": [
    "full_logistic_regression = None\n",
    "\n",
    "if Path('models/Full_LogisticRegression.pkl').is_file():\n",
    "    full_logistic_regression = joblib.load('models/Full_LogisticRegression.pkl')\n",
    "else:\n",
    "    full_logistic_regression = LogisticRegression(random_state=8)\n",
    "    full_logistic_regression.fit(X_train_full, y_train_full)\n",
    "    joblib.dump(full_logistic_regression, 'models/Full_LogisticRegression.pkl')\n",
    "\n",
    "pred = full_logistic_regression.predict(X_test_full)\n",
    "\n",
    "print(accuracy_score(y_test_full, pred, normalize=True))\n",
    "print(fbeta_score(y_test_full, pred, beta=0.5))\n",
    "print(roc_auc_score(y_test_full, pred))\n",
    "print(logistic_regression.get_params())"
   ]
  }
 ],
 "metadata": {
  "kernelspec": {
   "display_name": "Python 3",
   "language": "python",
   "name": "python3"
  },
  "language_info": {
   "codemirror_mode": {
    "name": "ipython",
    "version": 3
   },
   "file_extension": ".py",
   "mimetype": "text/x-python",
   "name": "python",
   "nbconvert_exporter": "python",
   "pygments_lexer": "ipython3",
   "version": "3.6.6"
  }
 },
 "nbformat": 4,
 "nbformat_minor": 2
}
